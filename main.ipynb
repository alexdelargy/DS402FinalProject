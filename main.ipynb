{
 "cells": [
  {
   "cell_type": "code",
   "execution_count": 15,
   "metadata": {},
   "outputs": [],
   "source": [
    "import pandas as pd\n",
    "from sklearn.metrics.pairwise import cosine_similarity\n",
    "import numpy as np\n",
    "from sklearn.feature_extraction.text import TfidfVectorizer\n",
    "from sklearn.decomposition import LatentDirichletAllocation\n",
    "from sklearn.model_selection import train_test_split\n",
    "from nltk.stem import WordNetLemmatizer\n",
    "from nltk.stem.porter import PorterStemmer\n",
    "from nltk.corpus import stopwords\n",
    "import nltk\n",
    "import re"
   ]
  },
  {
   "cell_type": "code",
   "execution_count": 16,
   "metadata": {},
   "outputs": [
    {
     "name": "stdout",
     "output_type": "stream",
     "text": [
      "<class 'pandas.core.frame.DataFrame'>\n",
      "RangeIndex: 541909 entries, 0 to 541908\n",
      "Data columns (total 8 columns):\n",
      " #   Column       Non-Null Count   Dtype  \n",
      "---  ------       --------------   -----  \n",
      " 0   InvoiceNo    541909 non-null  object \n",
      " 1   StockCode    541909 non-null  object \n",
      " 2   Description  540455 non-null  object \n",
      " 3   Quantity     541909 non-null  int64  \n",
      " 4   InvoiceDate  541909 non-null  object \n",
      " 5   UnitPrice    541909 non-null  float64\n",
      " 6   CustomerID   406829 non-null  float64\n",
      " 7   Country      541909 non-null  object \n",
      "dtypes: float64(2), int64(1), object(5)\n",
      "memory usage: 33.1+ MB\n"
     ]
    }
   ],
   "source": [
    "# Read in Ecommerce Data\n",
    "df = pd.read_csv(\"Online Retail.csv\")\n",
    "df.info()"
   ]
  },
  {
   "cell_type": "code",
   "execution_count": 17,
   "metadata": {},
   "outputs": [],
   "source": [
    "df = df.dropna()"
   ]
  },
  {
   "cell_type": "code",
   "execution_count": 18,
   "metadata": {},
   "outputs": [
    {
     "data": {
      "text/html": [
       "<div>\n",
       "<style scoped>\n",
       "    .dataframe tbody tr th:only-of-type {\n",
       "        vertical-align: middle;\n",
       "    }\n",
       "\n",
       "    .dataframe tbody tr th {\n",
       "        vertical-align: top;\n",
       "    }\n",
       "\n",
       "    .dataframe thead th {\n",
       "        text-align: right;\n",
       "    }\n",
       "</style>\n",
       "<table border=\"1\" class=\"dataframe\">\n",
       "  <thead>\n",
       "    <tr style=\"text-align: right;\">\n",
       "      <th></th>\n",
       "      <th>InvoiceNo</th>\n",
       "      <th>StockCode</th>\n",
       "      <th>Description</th>\n",
       "      <th>Quantity</th>\n",
       "      <th>InvoiceDate</th>\n",
       "      <th>UnitPrice</th>\n",
       "      <th>CustomerID</th>\n",
       "      <th>Country</th>\n",
       "    </tr>\n",
       "  </thead>\n",
       "  <tbody>\n",
       "    <tr>\n",
       "      <th>0</th>\n",
       "      <td>536365</td>\n",
       "      <td>85123A</td>\n",
       "      <td>WHITE HANGING HEART T-LIGHT HOLDER</td>\n",
       "      <td>6</td>\n",
       "      <td>12/1/10 8:26</td>\n",
       "      <td>2.55</td>\n",
       "      <td>17850.0</td>\n",
       "      <td>United Kingdom</td>\n",
       "    </tr>\n",
       "    <tr>\n",
       "      <th>1</th>\n",
       "      <td>536365</td>\n",
       "      <td>71053</td>\n",
       "      <td>WHITE METAL LANTERN</td>\n",
       "      <td>6</td>\n",
       "      <td>12/1/10 8:26</td>\n",
       "      <td>3.39</td>\n",
       "      <td>17850.0</td>\n",
       "      <td>United Kingdom</td>\n",
       "    </tr>\n",
       "    <tr>\n",
       "      <th>2</th>\n",
       "      <td>536365</td>\n",
       "      <td>84406B</td>\n",
       "      <td>CREAM CUPID HEARTS COAT HANGER</td>\n",
       "      <td>8</td>\n",
       "      <td>12/1/10 8:26</td>\n",
       "      <td>2.75</td>\n",
       "      <td>17850.0</td>\n",
       "      <td>United Kingdom</td>\n",
       "    </tr>\n",
       "    <tr>\n",
       "      <th>3</th>\n",
       "      <td>536365</td>\n",
       "      <td>84029G</td>\n",
       "      <td>KNITTED UNION FLAG HOT WATER BOTTLE</td>\n",
       "      <td>6</td>\n",
       "      <td>12/1/10 8:26</td>\n",
       "      <td>3.39</td>\n",
       "      <td>17850.0</td>\n",
       "      <td>United Kingdom</td>\n",
       "    </tr>\n",
       "    <tr>\n",
       "      <th>4</th>\n",
       "      <td>536365</td>\n",
       "      <td>84029E</td>\n",
       "      <td>RED WOOLLY HOTTIE WHITE HEART.</td>\n",
       "      <td>6</td>\n",
       "      <td>12/1/10 8:26</td>\n",
       "      <td>3.39</td>\n",
       "      <td>17850.0</td>\n",
       "      <td>United Kingdom</td>\n",
       "    </tr>\n",
       "  </tbody>\n",
       "</table>\n",
       "</div>"
      ],
      "text/plain": [
       "  InvoiceNo StockCode                          Description  Quantity  \\\n",
       "0    536365    85123A   WHITE HANGING HEART T-LIGHT HOLDER         6   \n",
       "1    536365     71053                  WHITE METAL LANTERN         6   \n",
       "2    536365    84406B       CREAM CUPID HEARTS COAT HANGER         8   \n",
       "3    536365    84029G  KNITTED UNION FLAG HOT WATER BOTTLE         6   \n",
       "4    536365    84029E       RED WOOLLY HOTTIE WHITE HEART.         6   \n",
       "\n",
       "    InvoiceDate  UnitPrice  CustomerID         Country  \n",
       "0  12/1/10 8:26       2.55     17850.0  United Kingdom  \n",
       "1  12/1/10 8:26       3.39     17850.0  United Kingdom  \n",
       "2  12/1/10 8:26       2.75     17850.0  United Kingdom  \n",
       "3  12/1/10 8:26       3.39     17850.0  United Kingdom  \n",
       "4  12/1/10 8:26       3.39     17850.0  United Kingdom  "
      ]
     },
     "execution_count": 18,
     "metadata": {},
     "output_type": "execute_result"
    }
   ],
   "source": [
    "df.head()"
   ]
  },
  {
   "cell_type": "markdown",
   "metadata": {},
   "source": [
    "## Find Similar Customers"
   ]
  },
  {
   "cell_type": "code",
   "execution_count": 19,
   "metadata": {},
   "outputs": [],
   "source": [
    "df_pivot = df.pivot_table(index=['CustomerID'],\n",
    "                columns=['StockCode'],\n",
    "                values='Quantity',\n",
    "                fill_value=0).reset_index()\n",
    "\n",
    "purchase_counts = df_pivot.groupby('CustomerID').sum()\n",
    "# Ensures no negative values\n",
    "purchase_counts = np.maximum(purchase_counts, 0)\n",
    "customer_similarities = pd.DataFrame(cosine_similarity(purchase_counts), index=purchase_counts.index, columns=purchase_counts.index)"
   ]
  },
  {
   "cell_type": "code",
   "execution_count": 20,
   "metadata": {},
   "outputs": [],
   "source": [
    "def recommend_products(customer_id, n_recommendations=5):\n",
    "    similar_customers = customer_similarities[customer_id].sort_values(ascending=False).index[1:]\n",
    "    recommended_products = set()\n",
    "\n",
    "    for similar_customer in similar_customers:\n",
    "        products_bought = purchase_counts.loc[similar_customer][purchase_counts.loc[similar_customer] > 0].index\n",
    "        products_not_bought = products_bought.difference(purchase_counts.loc[customer_id][purchase_counts.loc[customer_id] > 0].index)\n",
    "        recommended_products.update(products_not_bought)\n",
    "\n",
    "        if len(recommended_products) >= n_recommendations:\n",
    "            break\n",
    "\n",
    "    return list(recommended_products)[:n_recommendations]"
   ]
  },
  {
   "cell_type": "code",
   "execution_count": 35,
   "metadata": {},
   "outputs": [],
   "source": [
    "def compareRecommendations(cID, prod_rec):\n",
    "    comparison = {'Products Purchased': [], 'Products Recommended': []}\n",
    "    comparison['Products Purchased'] = list(df[df['CustomerID'] == cID]['Description'])\n",
    "    comparison['Products Recommended'] = set([list(df[df['StockCode'] == prodID]['Description'])[0] for prodID in prod_rec])\n",
    "    return comparison"
   ]
  },
  {
   "cell_type": "code",
   "execution_count": 22,
   "metadata": {},
   "outputs": [
    {
     "data": {
      "text/plain": [
       "['21977', '22501', '22667', '23243', '22585']"
      ]
     },
     "execution_count": 22,
     "metadata": {},
     "output_type": "execute_result"
    }
   ],
   "source": [
    "testID = np.random.choice(df['CustomerID'])\n",
    "recommend_products(testID, 5)"
   ]
  },
  {
   "cell_type": "markdown",
   "metadata": {},
   "source": [
    "## Find Similar Products with TF-IDF Vectorizing"
   ]
  },
  {
   "cell_type": "code",
   "execution_count": 23,
   "metadata": {},
   "outputs": [],
   "source": [
    "lemmatizer = WordNetLemmatizer()\n",
    "stemmer = PorterStemmer()\n",
    "stop_words = set(stopwords.words('english'))"
   ]
  },
  {
   "cell_type": "code",
   "execution_count": 24,
   "metadata": {},
   "outputs": [],
   "source": [
    "def preprocess_text(text):\n",
    "    text = str(text).lower()\n",
    "    text = re.sub(r'\\W', ' ', text)\n",
    "    tokens = text.split()\n",
    "    tokens = [word for word in tokens if word not in stop_words]\n",
    "    return ' '.join([stemmer.stem(lemmatizer.lemmatize(word)) for word in tokens])"
   ]
  },
  {
   "cell_type": "code",
   "execution_count": 25,
   "metadata": {},
   "outputs": [],
   "source": [
    "preprocess_vectorize = np.vectorize(preprocess_text)\n",
    "cleaned_descriptions = preprocess_vectorize(df['Description'].unique())"
   ]
  },
  {
   "cell_type": "code",
   "execution_count": 26,
   "metadata": {},
   "outputs": [],
   "source": [
    "tfIdf = TfidfVectorizer()\n",
    "matrix = tfIdf.fit_transform(cleaned_descriptions)\n",
    "similarities = cosine_similarity(matrix)"
   ]
  },
  {
   "cell_type": "code",
   "execution_count": 27,
   "metadata": {},
   "outputs": [
    {
     "name": "stdout",
     "output_type": "stream",
     "text": [
      "     StockCode                        Description\n",
      "5076     21260                      FIRST AID TIN\n",
      "4712     22413    METAL SIGN TAKE IT OR LEAVE IT \n",
      "218      22910  PAPER CHAIN KIT VINTAGE CHRISTMAS\n",
      "176     85099C     JUMBO  BAG BAROQUE BLACK WHITE\n",
      "274      22726         ALARM CLOCK BAKELIKE GREEN\n"
     ]
    }
   ],
   "source": [
    "def get_similar_products(prod_id, n=5):\n",
    "    idx = df.index[df['StockCode'] == prod_id][0]\n",
    "    sim_scores = list(enumerate(similarities[idx]))\n",
    "    sim_scores = sorted(sim_scores, key=lambda x: x[1], reverse=True)\n",
    "    sim_indices = [i[0] for i in sim_scores[1:n+1]]\n",
    "    return df.iloc[sim_indices][['StockCode', 'Description']]\n",
    "\n",
    "similar_products = get_similar_products(prod_id='84029G', n=5)\n",
    "print(similar_products)"
   ]
  },
  {
   "cell_type": "markdown",
   "metadata": {},
   "source": [
    "## Combine Recommendations"
   ]
  },
  {
   "cell_type": "code",
   "execution_count": 33,
   "metadata": {},
   "outputs": [
    {
     "name": "stdout",
     "output_type": "stream",
     "text": [
      "     StockCode                    Description\n",
      "473      16237           SLEEPING CAT ERASERS\n",
      "1015     22501     PICNIC BASKET WICKER LARGE\n",
      "1096     20973  12 PENCIL SMALL TUBE WOODLAND\n",
      "4310    15060B     FAIRY CAKE DESIGN UMBRELLA\n",
      "4595     21026                      SPACE OWL\n"
     ]
    }
   ],
   "source": [
    "def combined_recommendations(customer_id, n_recommendations=5):\n",
    "    similar_customers = customer_similarities[customer_id].sort_values(ascending=False).index[1:]\n",
    "    customer_based_recs = set()\n",
    "    \n",
    "    for similar_customer in similar_customers:\n",
    "        products_bought = purchase_counts.loc[similar_customer][purchase_counts.loc[similar_customer] > 0].index\n",
    "        products_not_bought = products_bought.difference(purchase_counts.loc[customer_id][purchase_counts.loc[customer_id] > 0].index)\n",
    "        customer_based_recs.update(products_not_bought)\n",
    "        \"\"\"if len(customer_based_recs) >= n_recommendations:\n",
    "            # Stop at n_recommendations\n",
    "            break\"\"\"\n",
    "    \n",
    "    product_based_recs = set()\n",
    "    for product in customer_based_recs:\n",
    "        try:\n",
    "            similar_products_df = get_similar_products(prod_id=product, n=n_recommendations)\n",
    "            product_based_recs.update(similar_products_df['StockCode'].values)\n",
    "        except:\n",
    "            continue\n",
    "    \n",
    "    final_recommendations = list(customer_based_recs.intersection(product_based_recs))[:n_recommendations]\n",
    "    \n",
    "    recommendations_df = df[df['StockCode'].isin(final_recommendations)][['StockCode', 'Description']].drop_duplicates()\n",
    "    return recommendations_df\n",
    "\n",
    "\n",
    "test_customer_id = np.random.choice(df['CustomerID'].dropna().unique())\n",
    "recommendations = combined_recommendations(customer_id=test_customer_id, n_recommendations=5)\n",
    "print(recommendations)"
   ]
  },
  {
   "cell_type": "code",
   "execution_count": 36,
   "metadata": {},
   "outputs": [
    {
     "data": {
      "text/plain": [
       "{'Products Purchased': ['CUTE CATS TAPE',\n",
       "  'STARS GIFT TAPE ',\n",
       "  'RETRO PLASTIC POLKA TRAY',\n",
       "  'BAKING SET 9 PIECE RETROSPOT ',\n",
       "  'SET/20 RED RETROSPOT PAPER NAPKINS ',\n",
       "  'SET OF SALT AND PEPPER TOADSTOOLS',\n",
       "  'RED POLKADOT COFFEE  MUG',\n",
       "  'SET/2 RED RETROSPOT TEA TOWELS ',\n",
       "  'EDWARDIAN PARASOL BLACK'],\n",
       " 'Products Recommended': {'12 PENCIL SMALL TUBE WOODLAND',\n",
       "  'FAIRY CAKE DESIGN UMBRELLA',\n",
       "  'PICNIC BASKET WICKER LARGE',\n",
       "  'SLEEPING CAT ERASERS',\n",
       "  'SPACE OWL'}}"
      ]
     },
     "execution_count": 36,
     "metadata": {},
     "output_type": "execute_result"
    }
   ],
   "source": [
    "compareRecommendations(test_customer_id, recommendations['StockCode'])"
   ]
  }
 ],
 "metadata": {
  "kernelspec": {
   "display_name": "Python 3",
   "language": "python",
   "name": "python3"
  },
  "language_info": {
   "codemirror_mode": {
    "name": "ipython",
    "version": 3
   },
   "file_extension": ".py",
   "mimetype": "text/x-python",
   "name": "python",
   "nbconvert_exporter": "python",
   "pygments_lexer": "ipython3",
   "version": "3.11.3"
  }
 },
 "nbformat": 4,
 "nbformat_minor": 2
}
